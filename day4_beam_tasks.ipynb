{
  "nbformat": 4,
  "nbformat_minor": 0,
  "metadata": {
    "colab": {
      "provenance": []
    },
    "kernelspec": {
      "name": "python3",
      "display_name": "Python 3"
    },
    "language_info": {
      "name": "python"
    }
  },
  "cells": [
    {
      "cell_type": "markdown",
      "source": [
        "# Apache Beam mini-project (Task 1 & Task 2)\n",
        "We will (1) format rows, (2) count by gender, (3) count per day, (4) count per state.\n"
      ],
      "metadata": {
        "id": "LrYBMKxlTaGc"
      }
    },
    {
      "cell_type": "code",
      "source": [
        "!pip -q install \"apache-beam>=2.56,<3\"\n",
        "import apache_beam as beam, os, sys, csv, re\n",
        "print(\"Beam version:\", beam.__version__)\n"
      ],
      "metadata": {
        "colab": {
          "base_uri": "https://localhost:8080/"
        },
        "id": "ttboXVlzTjpP",
        "outputId": "f932b086-8d04-4caf-adb4-e1e9d717572b"
      },
      "execution_count": 1,
      "outputs": [
        {
          "output_type": "stream",
          "name": "stdout",
          "text": [
            "Beam version: 2.67.0\n"
          ]
        }
      ]
    },
    {
      "cell_type": "code",
      "source": [
        "from google.colab import files\n",
        "up = files.upload()   # pick users_v.csv\n"
      ],
      "metadata": {
        "colab": {
          "base_uri": "https://localhost:8080/",
          "height": 71
        },
        "id": "mzo6xq4kTx2P",
        "outputId": "5071260a-ebd6-48dc-f619-a039c60ec308"
      },
      "execution_count": 2,
      "outputs": [
        {
          "output_type": "display_data",
          "data": {
            "text/plain": [
              "<IPython.core.display.HTML object>"
            ],
            "text/html": [
              "\n",
              "     <input type=\"file\" id=\"files-9686e9f4-6500-4bd8-8ee4-1ccec0f6041b\" name=\"files[]\" multiple disabled\n",
              "        style=\"border:none\" />\n",
              "     <output id=\"result-9686e9f4-6500-4bd8-8ee4-1ccec0f6041b\">\n",
              "      Upload widget is only available when the cell has been executed in the\n",
              "      current browser session. Please rerun this cell to enable.\n",
              "      </output>\n",
              "      <script>// Copyright 2017 Google LLC\n",
              "//\n",
              "// Licensed under the Apache License, Version 2.0 (the \"License\");\n",
              "// you may not use this file except in compliance with the License.\n",
              "// You may obtain a copy of the License at\n",
              "//\n",
              "//      http://www.apache.org/licenses/LICENSE-2.0\n",
              "//\n",
              "// Unless required by applicable law or agreed to in writing, software\n",
              "// distributed under the License is distributed on an \"AS IS\" BASIS,\n",
              "// WITHOUT WARRANTIES OR CONDITIONS OF ANY KIND, either express or implied.\n",
              "// See the License for the specific language governing permissions and\n",
              "// limitations under the License.\n",
              "\n",
              "/**\n",
              " * @fileoverview Helpers for google.colab Python module.\n",
              " */\n",
              "(function(scope) {\n",
              "function span(text, styleAttributes = {}) {\n",
              "  const element = document.createElement('span');\n",
              "  element.textContent = text;\n",
              "  for (const key of Object.keys(styleAttributes)) {\n",
              "    element.style[key] = styleAttributes[key];\n",
              "  }\n",
              "  return element;\n",
              "}\n",
              "\n",
              "// Max number of bytes which will be uploaded at a time.\n",
              "const MAX_PAYLOAD_SIZE = 100 * 1024;\n",
              "\n",
              "function _uploadFiles(inputId, outputId) {\n",
              "  const steps = uploadFilesStep(inputId, outputId);\n",
              "  const outputElement = document.getElementById(outputId);\n",
              "  // Cache steps on the outputElement to make it available for the next call\n",
              "  // to uploadFilesContinue from Python.\n",
              "  outputElement.steps = steps;\n",
              "\n",
              "  return _uploadFilesContinue(outputId);\n",
              "}\n",
              "\n",
              "// This is roughly an async generator (not supported in the browser yet),\n",
              "// where there are multiple asynchronous steps and the Python side is going\n",
              "// to poll for completion of each step.\n",
              "// This uses a Promise to block the python side on completion of each step,\n",
              "// then passes the result of the previous step as the input to the next step.\n",
              "function _uploadFilesContinue(outputId) {\n",
              "  const outputElement = document.getElementById(outputId);\n",
              "  const steps = outputElement.steps;\n",
              "\n",
              "  const next = steps.next(outputElement.lastPromiseValue);\n",
              "  return Promise.resolve(next.value.promise).then((value) => {\n",
              "    // Cache the last promise value to make it available to the next\n",
              "    // step of the generator.\n",
              "    outputElement.lastPromiseValue = value;\n",
              "    return next.value.response;\n",
              "  });\n",
              "}\n",
              "\n",
              "/**\n",
              " * Generator function which is called between each async step of the upload\n",
              " * process.\n",
              " * @param {string} inputId Element ID of the input file picker element.\n",
              " * @param {string} outputId Element ID of the output display.\n",
              " * @return {!Iterable<!Object>} Iterable of next steps.\n",
              " */\n",
              "function* uploadFilesStep(inputId, outputId) {\n",
              "  const inputElement = document.getElementById(inputId);\n",
              "  inputElement.disabled = false;\n",
              "\n",
              "  const outputElement = document.getElementById(outputId);\n",
              "  outputElement.innerHTML = '';\n",
              "\n",
              "  const pickedPromise = new Promise((resolve) => {\n",
              "    inputElement.addEventListener('change', (e) => {\n",
              "      resolve(e.target.files);\n",
              "    });\n",
              "  });\n",
              "\n",
              "  const cancel = document.createElement('button');\n",
              "  inputElement.parentElement.appendChild(cancel);\n",
              "  cancel.textContent = 'Cancel upload';\n",
              "  const cancelPromise = new Promise((resolve) => {\n",
              "    cancel.onclick = () => {\n",
              "      resolve(null);\n",
              "    };\n",
              "  });\n",
              "\n",
              "  // Wait for the user to pick the files.\n",
              "  const files = yield {\n",
              "    promise: Promise.race([pickedPromise, cancelPromise]),\n",
              "    response: {\n",
              "      action: 'starting',\n",
              "    }\n",
              "  };\n",
              "\n",
              "  cancel.remove();\n",
              "\n",
              "  // Disable the input element since further picks are not allowed.\n",
              "  inputElement.disabled = true;\n",
              "\n",
              "  if (!files) {\n",
              "    return {\n",
              "      response: {\n",
              "        action: 'complete',\n",
              "      }\n",
              "    };\n",
              "  }\n",
              "\n",
              "  for (const file of files) {\n",
              "    const li = document.createElement('li');\n",
              "    li.append(span(file.name, {fontWeight: 'bold'}));\n",
              "    li.append(span(\n",
              "        `(${file.type || 'n/a'}) - ${file.size} bytes, ` +\n",
              "        `last modified: ${\n",
              "            file.lastModifiedDate ? file.lastModifiedDate.toLocaleDateString() :\n",
              "                                    'n/a'} - `));\n",
              "    const percent = span('0% done');\n",
              "    li.appendChild(percent);\n",
              "\n",
              "    outputElement.appendChild(li);\n",
              "\n",
              "    const fileDataPromise = new Promise((resolve) => {\n",
              "      const reader = new FileReader();\n",
              "      reader.onload = (e) => {\n",
              "        resolve(e.target.result);\n",
              "      };\n",
              "      reader.readAsArrayBuffer(file);\n",
              "    });\n",
              "    // Wait for the data to be ready.\n",
              "    let fileData = yield {\n",
              "      promise: fileDataPromise,\n",
              "      response: {\n",
              "        action: 'continue',\n",
              "      }\n",
              "    };\n",
              "\n",
              "    // Use a chunked sending to avoid message size limits. See b/62115660.\n",
              "    let position = 0;\n",
              "    do {\n",
              "      const length = Math.min(fileData.byteLength - position, MAX_PAYLOAD_SIZE);\n",
              "      const chunk = new Uint8Array(fileData, position, length);\n",
              "      position += length;\n",
              "\n",
              "      const base64 = btoa(String.fromCharCode.apply(null, chunk));\n",
              "      yield {\n",
              "        response: {\n",
              "          action: 'append',\n",
              "          file: file.name,\n",
              "          data: base64,\n",
              "        },\n",
              "      };\n",
              "\n",
              "      let percentDone = fileData.byteLength === 0 ?\n",
              "          100 :\n",
              "          Math.round((position / fileData.byteLength) * 100);\n",
              "      percent.textContent = `${percentDone}% done`;\n",
              "\n",
              "    } while (position < fileData.byteLength);\n",
              "  }\n",
              "\n",
              "  // All done.\n",
              "  yield {\n",
              "    response: {\n",
              "      action: 'complete',\n",
              "    }\n",
              "  };\n",
              "}\n",
              "\n",
              "scope.google = scope.google || {};\n",
              "scope.google.colab = scope.google.colab || {};\n",
              "scope.google.colab._files = {\n",
              "  _uploadFiles,\n",
              "  _uploadFilesContinue,\n",
              "};\n",
              "})(self);\n",
              "</script> "
            ]
          },
          "metadata": {}
        },
        {
          "output_type": "stream",
          "name": "stdout",
          "text": [
            "Saving users_v.csv to users_v (1).csv\n"
          ]
        }
      ]
    },
    {
      "cell_type": "code",
      "source": [
        "INPUT_PATH = \"/content/users_v.csv\"\n",
        "OUT_DIR    = \"/content/output\"\n",
        "os.makedirs(OUT_DIR, exist_ok=True)\n",
        "print(\"CSV exists:\", os.path.exists(INPUT_PATH), \" → \", INPUT_PATH)\n"
      ],
      "metadata": {
        "colab": {
          "base_uri": "https://localhost:8080/"
        },
        "id": "pGy-QqrIT7w_",
        "outputId": "d232518b-5086-482c-a66f-3536ff6576a9"
      },
      "execution_count": 3,
      "outputs": [
        {
          "output_type": "stream",
          "name": "stdout",
          "text": [
            "CSV exists: True  →  /content/users_v.csv\n"
          ]
        }
      ]
    },
    {
      "cell_type": "code",
      "source": [
        "from datetime import datetime\n",
        "from typing import Dict\n",
        "\n",
        "def parse_date_any(s: str) -> str:\n",
        "    s = (s or \"\").strip()\n",
        "    for fmt in (\"%Y-%m-%d\", \"%d/%m/%Y\", \"%m/%d/%Y\", \"%Y/%m/%d\"):\n",
        "        try:\n",
        "            return datetime.strptime(s, fmt).strftime(\"%Y-%m-%d\")\n",
        "        except ValueError:\n",
        "            pass\n",
        "    return s\n",
        "\n",
        "def normalize_name(name: str) -> str:\n",
        "    name = (name or \"\").strip()\n",
        "    if \",\" in name:\n",
        "        last, first = [x.strip() for x in name.split(\",\", 1)]\n",
        "        return f\"{first} {last}\".title()\n",
        "    return re.sub(r\"\\s+\", \" \", name).title()\n",
        "\n",
        "def normalize_gender(g: str) -> str:\n",
        "    g = (g or \"\").strip().lower()\n",
        "    if g in {\"m\",\"male\"}: return \"Male\"\n",
        "    if g in {\"f\",\"female\"}: return \"Female\"\n",
        "    return g.title() or \"Unknown\"\n",
        "\n",
        "def normalize_address(addr: str) -> str:\n",
        "    # aim for \"City,ST,ZIP\" if possible; otherwise keep trimmed\n",
        "    a = \" \".join((addr or \"\").strip().split())\n",
        "    m = re.match(r\"^([A-Za-z .'-]+)[, ]+([A-Za-z]{2})[, ]+(\\d{5})(?:-\\d{4})?$\", a)\n",
        "    if m: return f\"{m.group(1)},{m.group(2).upper()},{m.group(3)}\"\n",
        "    m = re.match(r\"^([A-Za-z .'-]+)[, ]+([A-Za-z]{2})$\", a)\n",
        "    if m: return f\"{m.group(1)},{m.group(2).upper()},\"\n",
        "    return a\n",
        "\n",
        "def parse_csv_row(line: str) -> Dict[str,str]:\n",
        "    cols = next(csv.reader([line], delimiter=';'))\n",
        "    keys = [\"user_id\",\"name\",\"gender\",\"age\",\"address\",\"date_joined\"]\n",
        "    vals = [cols[i].strip() if i < len(cols) else \"\" for i in range(len(keys))]\n",
        "    return dict(zip(keys, vals))\n"
      ],
      "metadata": {
        "id": "aHHWUphZUBAj"
      },
      "execution_count": 4,
      "outputs": []
    },
    {
      "cell_type": "code",
      "source": [
        "from apache_beam.options.pipeline_options import PipelineOptions\n",
        "\n",
        "MARKETING_PREFIX = f\"{OUT_DIR}/marketing_format\"\n",
        "\n",
        "class ToMarketingRow(beam.DoFn):\n",
        "    def process(self, rec):\n",
        "        uid    = rec.get(\"user_id\",\"\").strip()\n",
        "        name   = normalize_name(rec.get(\"name\",\"\"))\n",
        "        gender = normalize_gender(rec.get(\"gender\",\"\"))\n",
        "        age    = re.sub(r\"[^\\d]\",\"\", rec.get(\"age\",\"\"))\n",
        "        addr   = normalize_address(rec.get(\"address\",\"\"))\n",
        "        date   = parse_date_any(rec.get(\"date_joined\",\"\"))\n",
        "        # keep a single space before address to match the example exactly\n",
        "        yield f\"{uid};{name};{gender};{age}; {addr};{date}\"\n",
        "\n",
        "with beam.Pipeline(options=PipelineOptions([\"--runner=DirectRunner\"])) as p:\n",
        "    (p\n",
        "     | \"ReadCSV\"   >> beam.io.ReadFromText(INPUT_PATH, skip_header_lines=1)\n",
        "     | \"Parse\"     >> beam.Map(parse_csv_row)\n",
        "     | \"Format\"    >> beam.ParDo(ToMarketingRow())\n",
        "     | \"WriteOut\"  >> beam.io.WriteToText(MARKETING_PREFIX, file_name_suffix=\".csv\", shard_name_template=\"-SSSS\")\n",
        "    )\n",
        "\n",
        "# peek a few lines for your screenshot\n",
        "import glob\n",
        "shards = sorted(glob.glob(f\"{MARKETING_PREFIX}-*.csv\"))\n",
        "print(\"Marketing shards:\", shards[:3])\n",
        "if shards:\n",
        "    print(\"\\nSample:\")\n",
        "    print(\"\\n\".join(open(shards[0]).read().splitlines()[:3]))\n"
      ],
      "metadata": {
        "colab": {
          "base_uri": "https://localhost:8080/",
          "height": 176
        },
        "id": "brI1366dUFkW",
        "outputId": "714451c7-a212-4c46-fbc9-77654aad4e54"
      },
      "execution_count": 5,
      "outputs": [
        {
          "output_type": "stream",
          "name": "stderr",
          "text": [
            "WARNING:apache_beam.runners.interactive.interactive_environment:Dependencies required for Interactive Beam PCollection visualization are not available, please use: `pip install apache-beam[interactive]` to install necessary dependencies to enable all data visualization features.\n"
          ]
        },
        {
          "output_type": "display_data",
          "data": {
            "application/javascript": [
              "\n",
              "        if (typeof window.interactive_beam_jquery == 'undefined') {\n",
              "          var jqueryScript = document.createElement('script');\n",
              "          jqueryScript.src = 'https://code.jquery.com/jquery-3.4.1.slim.min.js';\n",
              "          jqueryScript.type = 'text/javascript';\n",
              "          jqueryScript.onload = function() {\n",
              "            var datatableScript = document.createElement('script');\n",
              "            datatableScript.src = 'https://cdn.datatables.net/1.10.20/js/jquery.dataTables.min.js';\n",
              "            datatableScript.type = 'text/javascript';\n",
              "            datatableScript.onload = function() {\n",
              "              window.interactive_beam_jquery = jQuery.noConflict(true);\n",
              "              window.interactive_beam_jquery(document).ready(function($){\n",
              "                \n",
              "              });\n",
              "            }\n",
              "            document.head.appendChild(datatableScript);\n",
              "          };\n",
              "          document.head.appendChild(jqueryScript);\n",
              "        } else {\n",
              "          window.interactive_beam_jquery(document).ready(function($){\n",
              "            \n",
              "          });\n",
              "        }"
            ]
          },
          "metadata": {}
        },
        {
          "output_type": "stream",
          "name": "stderr",
          "text": [
            "WARNING:apache_beam.io.filebasedsink:Deleting 1 existing files in target path matching: -*\n"
          ]
        },
        {
          "output_type": "stream",
          "name": "stdout",
          "text": [
            "Marketing shards: ['/content/output/marketing_format-0000.csv']\n",
            "\n",
            "Sample:\n",
            "1,Anthony Wolf,male,73,New Rachelburgh-VA-49583,2019/03/13;;Unknown;; ;\n",
            "2,James Armstrong,male,56,North Jillianfort-UT-86454,2020/11/06;;Unknown;; ;\n",
            "3,Cody Shaw,male,75,North Anne-SC-53799,2004/05/29;;Unknown;; ;\n"
          ]
        }
      ]
    },
    {
      "cell_type": "code",
      "source": [
        "GENDER_PREFIX = f\"{OUT_DIR}/gender_split\"\n",
        "\n",
        "with beam.Pipeline(options=PipelineOptions([\"--runner=DirectRunner\"])) as p:\n",
        "    out = (p\n",
        "      | \"Read\"  >> beam.io.ReadFromText(INPUT_PATH, skip_header_lines=1)\n",
        "      | \"Parse\" >> beam.Map(parse_csv_row)\n",
        "      | \"Pair\"  >> beam.Map(lambda r: (normalize_gender(r[\"gender\"]), 1))\n",
        "      | \"Sum\"   >> beam.CombinePerKey(sum)\n",
        "      | \"Keep\"  >> beam.Filter(lambda kv: kv[0] in {\"Female\",\"Male\"})\n",
        "      | \"Fmt\"   >> beam.Map(lambda kv: f\"{kv[0]};{kv[1]}\")\n",
        "      | \"Write\" >> beam.io.WriteToText(GENDER_PREFIX, file_name_suffix=\".csv\", shard_name_template=\"-SSSS\")\n",
        "    )\n",
        "\n",
        "g_files = sorted(glob.glob(f\"{GENDER_PREFIX}-*.csv\"))\n",
        "print(\"Gender shards:\", g_files[:3])\n",
        "if g_files:\n",
        "    print(open(g_files[0]).read())\n"
      ],
      "metadata": {
        "colab": {
          "base_uri": "https://localhost:8080/"
        },
        "id": "kcN5zgzoUt72",
        "outputId": "d6bc4c83-4098-4882-d463-dec5942609b0"
      },
      "execution_count": 6,
      "outputs": [
        {
          "output_type": "stream",
          "name": "stderr",
          "text": [
            "WARNING:apache_beam.io.filebasedsink:Deleting 1 existing files in target path matching: -*\n"
          ]
        },
        {
          "output_type": "stream",
          "name": "stdout",
          "text": [
            "Gender shards: ['/content/output/gender_split-0000.csv']\n",
            "\n"
          ]
        }
      ]
    },
    {
      "cell_type": "code",
      "source": [
        "DAILY_PREFIX = f\"{OUT_DIR}/daily_counts\"\n",
        "\n",
        "with beam.Pipeline(options=PipelineOptions([\"--runner=DirectRunner\"])) as p:\n",
        "    (p\n",
        "     | \"Read\"  >> beam.io.ReadFromText(INPUT_PATH, skip_header_lines=1)\n",
        "     | \"Parse\" >> beam.Map(parse_csv_row)\n",
        "     | \"Pair\"  >> beam.Map(lambda r: (parse_date_any(r[\"date_joined\"]), 1))\n",
        "     | \"Sum\"   >> beam.CombinePerKey(sum)\n",
        "     | \"Fmt\"   >> beam.Map(lambda kv: f\"{kv[0]};{kv[1]}\")\n",
        "     | \"Write\" >> beam.io.WriteToText(DAILY_PREFIX, file_name_suffix=\".csv\", shard_name_template=\"-SSSS\")\n",
        "    )\n",
        "\n",
        "d_files = sorted(glob.glob(f\"{DAILY_PREFIX}-*.csv\"))\n",
        "print(\"Daily shards:\", d_files[:3])\n",
        "if d_files:\n",
        "    print(\"\\n\".join(open(d_files[0]).read().splitlines()[:5]))\n"
      ],
      "metadata": {
        "colab": {
          "base_uri": "https://localhost:8080/"
        },
        "id": "PkTA9NJMVBFI",
        "outputId": "b167be83-5064-4397-9dfb-5ef617266233"
      },
      "execution_count": 7,
      "outputs": [
        {
          "output_type": "stream",
          "name": "stderr",
          "text": [
            "WARNING:apache_beam.io.filebasedsink:Deleting 1 existing files in target path matching: -*\n"
          ]
        },
        {
          "output_type": "stream",
          "name": "stdout",
          "text": [
            "Daily shards: ['/content/output/daily_counts-0000.csv']\n",
            ";2357\n"
          ]
        }
      ]
    },
    {
      "cell_type": "code",
      "source": [
        "STATE_PREFIX = f\"{OUT_DIR}/state_counts\"\n",
        "\n",
        "def to_state(rec):\n",
        "    addr = normalize_address(rec.get(\"address\",\"\"))\n",
        "    parts = [p.strip() for p in addr.split(\",\")]\n",
        "    st = parts[1].upper() if len(parts)>=2 else \"UNK\"\n",
        "    if not re.fullmatch(r\"[A-Z]{2}\", st): st = \"UNK\"\n",
        "    return (st, 1)\n",
        "\n",
        "with beam.Pipeline(options=PipelineOptions([\"--runner=DirectRunner\"])) as p:\n",
        "    (p\n",
        "     | \"Read\"   >> beam.io.ReadFromText(INPUT_PATH, skip_header_lines=1)\n",
        "     | \"Parse\"  >> beam.Map(parse_csv_row)\n",
        "     | \"Pair\"   >> beam.Map(to_state)\n",
        "     | \"Sum\"    >> beam.CombinePerKey(sum)\n",
        "     | \"Drop\"   >> beam.Filter(lambda kv: kv[0] != \"UNK\")\n",
        "     | \"Fmt\"    >> beam.Map(lambda kv: f\"{kv[0]};{kv[1]}\")\n",
        "     | \"Write\"  >> beam.io.WriteToText(STATE_PREFIX, file_name_suffix=\".csv\", shard_name_template=\"-SSSS\")\n",
        "    )\n",
        "\n",
        "s_files = sorted(glob.glob(f\"{STATE_PREFIX}-*.csv\"))\n",
        "print(\"State shards:\", s_files[:3])\n",
        "if s_files:\n",
        "    print(\"\\n\".join(open(s_files[0]).read().splitlines()[:10]))\n"
      ],
      "metadata": {
        "colab": {
          "base_uri": "https://localhost:8080/"
        },
        "id": "Z6c3Jf0jVNbW",
        "outputId": "cd4afe14-4358-41a5-fe1e-7f3310228649"
      },
      "execution_count": 8,
      "outputs": [
        {
          "output_type": "stream",
          "name": "stderr",
          "text": [
            "WARNING:apache_beam.io.filebasedsink:Deleting 1 existing files in target path matching: -*\n"
          ]
        },
        {
          "output_type": "stream",
          "name": "stdout",
          "text": [
            "State shards: ['/content/output/state_counts-0000.csv']\n",
            "\n"
          ]
        }
      ]
    }
  ]
}