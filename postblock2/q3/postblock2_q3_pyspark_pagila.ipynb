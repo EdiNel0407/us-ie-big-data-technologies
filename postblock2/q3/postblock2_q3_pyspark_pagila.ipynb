{
  "cells": [
    {
      "cell_type": "markdown",
      "metadata": {
        "id": "view-in-github",
        "colab_type": "text"
      },
      "source": [
        "<a href=\"https://colab.research.google.com/github/EdiNel0407/us-ie-big-data-technologies/blob/main/postblock2/q3/postblock2_q3_pyspark_pagila.ipynb\" target=\"_parent\"><img src=\"https://colab.research.google.com/assets/colab-badge.svg\" alt=\"Open In Colab\"/></a>"
      ]
    },
    {
      "cell_type": "markdown",
      "id": "5c14235d",
      "metadata": {
        "id": "5c14235d"
      },
      "source": [
        "# PostBlock2 Q3 — PySpark + PostgreSQL (pagila)\n",
        "\n",
        "This notebook connects to a **PostgreSQL** database using **PySpark JDBC** and prints the schema of `public.customer` from the **pagila** database.\n",
        "\n",
        "**Instructions**:\n",
        "1. Run each cell top-to-bottom in **Google Colab**.\n",
        "2. Edit the connection details (host, user, password) in the **Connection** cell.\n",
        "3. After `df.printSchema()` runs, take a screenshot of the output cell for STEMLearn.\n",
        "4. Commit this notebook to your private repo at `postblock2/q3/`.\n"
      ]
    },
    {
      "cell_type": "markdown",
      "id": "ee187e5c",
      "metadata": {
        "id": "ee187e5c"
      },
      "source": [
        "## 1) Environment (Colab)"
      ]
    },
    {
      "cell_type": "code",
      "execution_count": 1,
      "id": "c1404c45",
      "metadata": {
        "id": "c1404c45"
      },
      "outputs": [],
      "source": [
        "!pip -q install pyspark==3.5.1\n"
      ]
    },
    {
      "cell_type": "markdown",
      "id": "3d24f5b1",
      "metadata": {
        "id": "3d24f5b1"
      },
      "source": [
        "## 2) Start Spark with the PostgreSQL JDBC driver"
      ]
    },
    {
      "cell_type": "code",
      "execution_count": 2,
      "id": "acdc3348",
      "metadata": {
        "colab": {
          "base_uri": "https://localhost:8080/"
        },
        "id": "acdc3348",
        "outputId": "e3be4865-3447-4999-98a7-6a865b44bf7e"
      },
      "outputs": [
        {
          "output_type": "stream",
          "name": "stdout",
          "text": [
            "Spark version: 3.5.1\n"
          ]
        }
      ],
      "source": [
        "from pyspark.sql import SparkSession\n",
        "\n",
        "spark = (\n",
        "    SparkSession.builder\n",
        "    .appName('Pagila_JDBC_Schema')\n",
        "    .config('spark.jars.packages', 'org.postgresql:postgresql:42.7.3')\n",
        "    .getOrCreate()\n",
        ")\n",
        "print('Spark version:', spark.version)\n"
      ]
    },
    {
      "cell_type": "markdown",
      "id": "a69f2912",
      "metadata": {
        "id": "a69f2912"
      },
      "source": [
        "## 3) Connection (EDIT THESE)"
      ]
    },
    {
      "cell_type": "code",
      "execution_count": 3,
      "id": "d6bcd0a1",
      "metadata": {
        "id": "d6bcd0a1"
      },
      "outputs": [],
      "source": [
        "PG_HOST = 'ep-winter-king-a8bvb2nf.eastus2.azure.neon.tech'   # e.g. 'db.example.com' or public IP\n",
        "PG_PORT = '5432'\n",
        "PG_DB   = 'pagila'\n",
        "PG_USER = 'neondb_owner'\n",
        "PG_PASS = 'npg_h4gJ1SuEWxae'\n",
        "TABLE   = 'public.customer'\n",
        "\n",
        "# If TLS is required by your server keep sslmode=require; otherwise you can remove the query string.\n",
        "JDBC_URL = f'jdbc:postgresql://{PG_HOST}:{PG_PORT}/{PG_DB}?sslmode=require'\n",
        "JDBC_DRIVER = 'org.postgresql.Driver'\n"
      ]
    },
    {
      "cell_type": "markdown",
      "id": "a2a8c006",
      "metadata": {
        "id": "a2a8c006"
      },
      "source": [
        "## 4) Read via JDBC and print schema"
      ]
    },
    {
      "cell_type": "code",
      "execution_count": 4,
      "id": "b984df79",
      "metadata": {
        "colab": {
          "base_uri": "https://localhost:8080/"
        },
        "id": "b984df79",
        "outputId": "6d560a3e-6ff9-47f3-915b-48c16f80ef0c"
      },
      "outputs": [
        {
          "output_type": "stream",
          "name": "stdout",
          "text": [
            "root\n",
            " |-- customer_id: integer (nullable = true)\n",
            " |-- store_id: short (nullable = true)\n",
            " |-- first_name: string (nullable = true)\n",
            " |-- last_name: string (nullable = true)\n",
            " |-- email: string (nullable = true)\n",
            " |-- address_id: short (nullable = true)\n",
            " |-- activebool: boolean (nullable = true)\n",
            " |-- create_date: date (nullable = true)\n",
            " |-- last_update: timestamp (nullable = true)\n",
            " |-- active: integer (nullable = true)\n",
            "\n"
          ]
        }
      ],
      "source": [
        "df = (\n",
        "    spark.read.format('jdbc')\n",
        "    .option('url', JDBC_URL)\n",
        "    .option('dbtable', TABLE)\n",
        "    .option('user', PG_USER)\n",
        "    .option('password', PG_PASS)\n",
        "    .option('driver', JDBC_DRIVER)\n",
        "    .load()\n",
        ")\n",
        "df.printSchema()\n"
      ]
    },
    {
      "cell_type": "markdown",
      "id": "01184d0d",
      "metadata": {
        "id": "01184d0d"
      },
      "source": [
        "## 5) (Optional) Peek rows to verify connectivity"
      ]
    },
    {
      "cell_type": "code",
      "execution_count": 5,
      "id": "980662a4",
      "metadata": {
        "colab": {
          "base_uri": "https://localhost:8080/"
        },
        "id": "980662a4",
        "outputId": "361f1750-e507-4bf5-dda8-5d0534cbc615"
      },
      "outputs": [
        {
          "output_type": "stream",
          "name": "stdout",
          "text": [
            "+-----------+--------+----------+---------+-----------------------+----------+----------+-----------+--------------------------+------+\n",
            "|customer_id|store_id|first_name|last_name|email                  |address_id|activebool|create_date|last_update               |active|\n",
            "+-----------+--------+----------+---------+-----------------------+----------+----------+-----------+--------------------------+------+\n",
            "|1          |1       |Mary      |Smith    |mary.smith@example.com |1         |true      |2025-10-02 |2025-10-02 17:53:07.497835|1     |\n",
            "|2          |1       |Patricia  |Johnson  |pat.johnson@example.com|2         |true      |2025-10-02 |2025-10-02 17:53:07.497835|1     |\n",
            "+-----------+--------+----------+---------+-----------------------+----------+----------+-----------+--------------------------+------+\n",
            "\n"
          ]
        }
      ],
      "source": [
        "df.limit(5).show(truncate=False)\n"
      ]
    },
    {
      "cell_type": "markdown",
      "id": "83c3030b",
      "metadata": {
        "id": "83c3030b"
      },
      "source": [
        "## 6) Save & Commit to GitHub (UI method)\n",
        "In Colab: **File → Save a copy in GitHub**\n",
        "\n",
        "• Select your private repo and branch (e.g., `main`).\n",
        "• In the **File path** box, set: `postblock2/q3/postblock2_q3_pyspark_pagila.ipynb`\n",
        "• Commit message: `PostBlock2 Q3: PySpark JDBC schema for pagila.customer`.\n",
        "\n",
        "Alternatively, you can use Git CLI, but the UI is simplest."
      ]
    },
    {
      "cell_type": "markdown",
      "id": "040d13d4",
      "metadata": {
        "id": "040d13d4"
      },
      "source": [
        "## 7) Cleanup (optional)"
      ]
    },
    {
      "cell_type": "code",
      "execution_count": null,
      "id": "6c939d86",
      "metadata": {
        "id": "6c939d86"
      },
      "outputs": [],
      "source": [
        "spark.stop()\n",
        "print('Spark stopped.')\n"
      ]
    },
    {
      "cell_type": "code",
      "source": [
        "# Make sure `df` is the DataFrame you loaded from JDBC (public.customer)\n",
        "# If your notebook kernel restarted, re-run the previous cells to recreate `df`.\n",
        "\n",
        "# Create/replace a SQL view for Spark SQL queries\n",
        "df.createOrReplaceTempView(\"customer\")\n",
        "\n",
        "# Spark SQL: count distinct, non-null email addresses\n",
        "# (lower() treats EMAIL vs email as the same; filter out NULL/empty)\n",
        "result = spark.sql(\"\"\"\n",
        "    SELECT COUNT(DISTINCT LOWER(TRIM(email))) AS unique_email_count\n",
        "    FROM customer\n",
        "    WHERE email IS NOT NULL AND LENGTH(TRIM(email)) > 0\n",
        "\"\"\")\n",
        "\n",
        "result.show()  # <-- Take the screenshot of this output for STEMLearn\n"
      ],
      "metadata": {
        "colab": {
          "base_uri": "https://localhost:8080/"
        },
        "id": "35UksuaDKKjy",
        "outputId": "393de85b-71ca-4ae5-b702-2e095c466841"
      },
      "id": "35UksuaDKKjy",
      "execution_count": 6,
      "outputs": [
        {
          "output_type": "stream",
          "name": "stdout",
          "text": [
            "+------------------+\n",
            "|unique_email_count|\n",
            "+------------------+\n",
            "|                 2|\n",
            "+------------------+\n",
            "\n"
          ]
        }
      ]
    }
  ],
  "metadata": {
    "colab": {
      "provenance": [],
      "include_colab_link": true
    },
    "language_info": {
      "name": "python"
    },
    "kernelspec": {
      "name": "python3",
      "display_name": "Python 3"
    }
  },
  "nbformat": 4,
  "nbformat_minor": 5
}