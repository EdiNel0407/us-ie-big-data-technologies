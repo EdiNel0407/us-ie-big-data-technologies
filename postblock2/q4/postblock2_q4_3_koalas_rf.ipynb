{
  "cells": [
    {
      "cell_type": "markdown",
      "metadata": {
        "id": "view-in-github",
        "colab_type": "text"
      },
      "source": [
        "<a href=\"https://colab.research.google.com/github/EdiNel0407/us-ie-big-data-technologies/blob/main/postblock2/q4/postblock2_q4_3_koalas_rf.ipynb\" target=\"_parent\"><img src=\"https://colab.research.google.com/assets/colab-badge.svg\" alt=\"Open In Colab\"/></a>"
      ]
    },
    {
      "cell_type": "markdown",
      "id": "7de5c9f4",
      "metadata": {
        "id": "7de5c9f4"
      },
      "source": [
        "# PostBlock2 — Q4.3: Koalas-style API (pyspark.pandas)"
      ]
    },
    {
      "cell_type": "code",
      "execution_count": 2,
      "id": "c717dd95",
      "metadata": {
        "colab": {
          "base_uri": "https://localhost:8080/"
        },
        "id": "c717dd95",
        "outputId": "66ba79ab-df97-4bd1-870e-b328b13f7b2c"
      },
      "outputs": [
        {
          "output_type": "stream",
          "name": "stdout",
          "text": [
            "NumPy: 2.0.2\n"
          ]
        }
      ],
      "source": [
        "!pip -q install pyspark==3.5.1 \"numpy<2.0\"\n",
        "\n",
        "import os, numpy as np\n",
        "os.environ[\"PYARROW_IGNORE_TIMEZONE\"] = \"1\"\n",
        "print(\"NumPy:\", np.__version__)\n",
        "\n"
      ]
    },
    {
      "cell_type": "code",
      "execution_count": 1,
      "id": "03b7628c",
      "metadata": {
        "colab": {
          "base_uri": "https://localhost:8080/"
        },
        "id": "03b7628c",
        "outputId": "a51094b8-54d3-44f4-e1ea-b4b8b1e88fc2"
      },
      "outputs": [
        {
          "output_type": "stream",
          "name": "stdout",
          "text": [
            "Spark: 3.5.1\n"
          ]
        }
      ],
      "source": [
        "from pyspark.sql import SparkSession\n",
        "spark = SparkSession.builder.appName(\"Q4.3_Koalas_RF\").getOrCreate()\n",
        "print(\"Spark:\", spark.version)\n",
        "\n"
      ]
    },
    {
      "cell_type": "code",
      "source": [
        "import pyspark.pandas as ps\n",
        "ps.set_option(\"compute.ops_on_diff_frames\", True)  # <— allow mixing Series from different frames\n",
        "\n",
        "# now this works:\n",
        "noise = ps.Series(np.random.default_rng(23).random(len(kdf)),\n",
        "                  index=kdf.index.to_pandas(), name=\"noise\")\n",
        "\n",
        "kdf[\"label\"] = (\n",
        "    (kdf.x1*0.8 + kdf.x2*0.6 - kdf.x3*0.7 + kdf.x4*0.2 + noise*0.3) > 0.8\n",
        ").astype(\"int\")\n",
        "\n",
        "\n",
        "\n"
      ],
      "metadata": {
        "colab": {
          "base_uri": "https://localhost:8080/"
        },
        "id": "kHeAa_ZWlY4i",
        "outputId": "a3162c65-215b-47b2-b8ff-74efa07d6865"
      },
      "id": "kHeAa_ZWlY4i",
      "execution_count": 8,
      "outputs": [
        {
          "output_type": "stream",
          "name": "stderr",
          "text": [
            "/usr/local/lib/python3.12/dist-packages/pyspark/pandas/utils.py:1016: PandasAPIOnSparkAdviceWarning: `to_pandas` loads all data into the driver's memory. It should only be used if the resulting pandas Index is expected to be small.\n",
            "  warnings.warn(message, PandasAPIOnSparkAdviceWarning)\n"
          ]
        }
      ]
    },
    {
      "cell_type": "code",
      "source": [
        "# Convert to Spark DF and train RF\n",
        "sdf = kdf.to_spark()\n",
        "\n",
        "from pyspark.ml.feature import VectorAssembler\n",
        "from pyspark.ml.classification import RandomForestClassifier\n",
        "from pyspark.ml import Pipeline\n",
        "from pyspark.ml.evaluation import MulticlassClassificationEvaluator\n",
        "\n",
        "assembler = VectorAssembler(inputCols=[\"x1\",\"x2\",\"x3\",\"x4\"], outputCol=\"features\")\n",
        "rf = RandomForestClassifier(labelCol=\"label\", featuresCol=\"features\", numTrees=100, maxDepth=8, seed=42)\n",
        "pipeline = Pipeline(stages=[assembler, rf])\n",
        "\n",
        "train_df, test_df = sdf.randomSplit([0.8, 0.2], seed=123)\n",
        "model = pipeline.fit(train_df)\n",
        "pred  = model.transform(test_df)\n",
        "\n",
        "acc = MulticlassClassificationEvaluator(labelCol=\"label\", predictionCol=\"prediction\", metricName=\"accuracy\").evaluate(pred)\n",
        "print(f\"Test Accuracy (Koalas prep): {acc:.4f}\")\n",
        "\n",
        "model.write().overwrite().save(\"/content/models/q4_3_koalas_rf_model\")\n"
      ],
      "metadata": {
        "colab": {
          "base_uri": "https://localhost:8080/"
        },
        "id": "JaDS7REZmzVu",
        "outputId": "ade70108-a4a1-4d5e-8967-de0e2cb8ff60"
      },
      "id": "JaDS7REZmzVu",
      "execution_count": 9,
      "outputs": [
        {
          "output_type": "stream",
          "name": "stderr",
          "text": [
            "/usr/local/lib/python3.12/dist-packages/pyspark/pandas/utils.py:1016: PandasAPIOnSparkAdviceWarning: If `index_col` is not specified for `to_spark`, the existing index is lost when converting to Spark DataFrame.\n",
            "  warnings.warn(message, PandasAPIOnSparkAdviceWarning)\n"
          ]
        },
        {
          "output_type": "stream",
          "name": "stdout",
          "text": [
            "Test Accuracy (Koalas prep): 0.9182\n"
          ]
        }
      ]
    }
  ],
  "metadata": {
    "colab": {
      "provenance": [],
      "include_colab_link": true
    },
    "language_info": {
      "name": "python"
    },
    "kernelspec": {
      "name": "python3",
      "display_name": "Python 3"
    }
  },
  "nbformat": 4,
  "nbformat_minor": 5
}