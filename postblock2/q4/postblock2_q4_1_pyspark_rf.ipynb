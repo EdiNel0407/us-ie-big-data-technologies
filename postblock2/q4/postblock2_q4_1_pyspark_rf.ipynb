{
  "cells": [
    {
      "cell_type": "markdown",
      "metadata": {
        "id": "view-in-github",
        "colab_type": "text"
      },
      "source": [
        "<a href=\"https://colab.research.google.com/github/EdiNel0407/us-ie-big-data-technologies/blob/main/postblock2/q4/postblock2_q4_1_pyspark_rf.ipynb\" target=\"_parent\"><img src=\"https://colab.research.google.com/assets/colab-badge.svg\" alt=\"Open In Colab\"/></a>"
      ]
    },
    {
      "cell_type": "markdown",
      "id": "4d8da221",
      "metadata": {
        "id": "4d8da221"
      },
      "source": [
        "# PostBlock2 — Q4.1: Random Forest in **PySpark only**"
      ]
    },
    {
      "cell_type": "markdown",
      "id": "466d3e06",
      "metadata": {
        "id": "466d3e06"
      },
      "source": [
        "This notebook builds a Random Forest classifier using **Spark ML** (no pandas/koalas)."
      ]
    },
    {
      "cell_type": "code",
      "execution_count": 1,
      "id": "67dd6155",
      "metadata": {
        "id": "67dd6155"
      },
      "outputs": [],
      "source": [
        "!pip -q install pyspark==3.5.1"
      ]
    },
    {
      "cell_type": "code",
      "execution_count": 2,
      "id": "cfd218f6",
      "metadata": {
        "colab": {
          "base_uri": "https://localhost:8080/"
        },
        "id": "cfd218f6",
        "outputId": "52d7013b-6e24-4f03-edac-a6b3439afbc7"
      },
      "outputs": [
        {
          "output_type": "stream",
          "name": "stdout",
          "text": [
            "Spark version: 3.5.1\n"
          ]
        }
      ],
      "source": [
        "\n",
        "from pyspark.sql import SparkSession\n",
        "spark = (SparkSession.builder.appName(\"Q4.1_PySpark_RF\").getOrCreate())\n",
        "print(\"Spark version:\", spark.version)\n"
      ]
    },
    {
      "cell_type": "code",
      "execution_count": 3,
      "id": "a3067db7",
      "metadata": {
        "colab": {
          "base_uri": "https://localhost:8080/"
        },
        "id": "a3067db7",
        "outputId": "2a6872f0-963f-4301-d80b-b7c0db31802f"
      },
      "outputs": [
        {
          "output_type": "stream",
          "name": "stdout",
          "text": [
            "root\n",
            " |-- x1: double (nullable = false)\n",
            " |-- x2: double (nullable = false)\n",
            " |-- x3: double (nullable = false)\n",
            " |-- x4: double (nullable = false)\n",
            " |-- label: integer (nullable = false)\n",
            "\n",
            "+-------------------+-------------------+-------------------+-------------------+-----+\n",
            "|                 x1|                 x2|                 x3|                 x4|label|\n",
            "+-------------------+-------------------+-------------------+-------------------+-----+\n",
            "|0.28188121484885875|0.03422639313807285| 0.4175019040792016| 0.9697474945375325|    0|\n",
            "|0.45998819035056326|0.11682250456449328| 0.9899129399827472|0.07530606222259384|    0|\n",
            "| 0.7690971666031955| 0.3252227809451943|0.48359971255227285|0.05242657018696939|    0|\n",
            "| 0.6631414615273216| 0.4358851046481089| 0.6070081240379598| 0.5448652870760927|    0|\n",
            "|  0.520550428327607|0.27831507107951303| 0.4013942674751203| 0.3298954444401243|    0|\n",
            "+-------------------+-------------------+-------------------+-------------------+-----+\n",
            "only showing top 5 rows\n",
            "\n",
            "+-----+-----+\n",
            "|label|count|\n",
            "+-----+-----+\n",
            "|    0| 3512|\n",
            "|    1| 1488|\n",
            "+-----+-----+\n",
            "\n"
          ]
        }
      ],
      "source": [
        "\n",
        "from pyspark.sql import functions as F\n",
        "n = 5000\n",
        "base = spark.range(0, n)\n",
        "df = (base.withColumn(\"x1\", F.rand(seed=7))\n",
        "          .withColumn(\"x2\", F.rand(seed=11))\n",
        "          .withColumn(\"x3\", F.rand(seed=13))\n",
        "          .withColumn(\"x4\", F.rand(seed=17)))\n",
        "df = df.withColumn(\"label\", ((F.col(\"x1\")*0.8 + F.col(\"x2\")*0.6 - F.col(\"x3\")*0.7 + F.col(\"x4\")*0.2 + F.rand(seed=23)*0.3) > 0.8).cast(\"int\")).drop(\"id\")\n",
        "df.printSchema()\n",
        "df.show(5)\n",
        "df.groupBy(\"label\").count().orderBy(\"label\").show()\n"
      ]
    },
    {
      "cell_type": "code",
      "execution_count": 4,
      "id": "b1066e94",
      "metadata": {
        "id": "b1066e94"
      },
      "outputs": [],
      "source": [
        "\n",
        "from pyspark.ml.feature import VectorAssembler\n",
        "from pyspark.ml.classification import RandomForestClassifier\n",
        "from pyspark.ml import Pipeline\n",
        "\n",
        "assembler = VectorAssembler(inputCols=[\"x1\",\"x2\",\"x3\",\"x4\"], outputCol=\"features\")\n",
        "rf = RandomForestClassifier(labelCol=\"label\", featuresCol=\"features\", numTrees=100, maxDepth=8, seed=42)\n",
        "pipeline = Pipeline(stages=[assembler, rf])\n",
        "train_df, test_df = df.randomSplit([0.8, 0.2], seed=123)\n",
        "model = pipeline.fit(train_df)\n"
      ]
    },
    {
      "cell_type": "code",
      "execution_count": 5,
      "id": "415b2ad9",
      "metadata": {
        "colab": {
          "base_uri": "https://localhost:8080/"
        },
        "id": "415b2ad9",
        "outputId": "5853c97c-33ed-4a7b-afd4-cc06fd944144"
      },
      "outputs": [
        {
          "output_type": "stream",
          "name": "stdout",
          "text": [
            "Test Accuracy: 0.9145\n",
            "+-----+----------+-----+\n",
            "|label|prediction|count|\n",
            "+-----+----------+-----+\n",
            "|    0|       0.0|  669|\n",
            "|    0|       1.0|   35|\n",
            "|    1|       0.0|   51|\n",
            "|    1|       1.0|  251|\n",
            "+-----+----------+-----+\n",
            "\n"
          ]
        }
      ],
      "source": [
        "\n",
        "from pyspark.ml.evaluation import MulticlassClassificationEvaluator\n",
        "pred = model.transform(test_df)\n",
        "acc = MulticlassClassificationEvaluator(labelCol=\"label\", predictionCol=\"prediction\", metricName=\"accuracy\").evaluate(pred)\n",
        "print(f\"Test Accuracy: {acc:.4f}\")\n",
        "pred.groupBy(\"label\",\"prediction\").count().orderBy(\"label\",\"prediction\").show()\n"
      ]
    },
    {
      "cell_type": "code",
      "execution_count": 6,
      "id": "0cee5230",
      "metadata": {
        "colab": {
          "base_uri": "https://localhost:8080/"
        },
        "id": "0cee5230",
        "outputId": "588dd8e2-bf0f-4628-9597-8a73f15da6bc"
      },
      "outputs": [
        {
          "output_type": "stream",
          "name": "stdout",
          "text": [
            "Model saved to: /content/models/q4_1_pyspark_rf_model\n"
          ]
        }
      ],
      "source": [
        "\n",
        "model_path = \"/content/models/q4_1_pyspark_rf_model\"\n",
        "model.write().overwrite().save(model_path)\n",
        "print(\"Model saved to:\", model_path)\n"
      ]
    },
    {
      "cell_type": "markdown",
      "id": "0d98b4fa",
      "metadata": {
        "id": "0d98b4fa"
      },
      "source": [
        "**Metric note:** Accuracy can be misleading with class imbalance. Consider ROC-AUC/PR-AUC, F1, recall for minority class, and balanced accuracy."
      ]
    }
  ],
  "metadata": {
    "colab": {
      "provenance": [],
      "include_colab_link": true
    },
    "language_info": {
      "name": "python"
    },
    "kernelspec": {
      "name": "python3",
      "display_name": "Python 3"
    }
  },
  "nbformat": 4,
  "nbformat_minor": 5
}